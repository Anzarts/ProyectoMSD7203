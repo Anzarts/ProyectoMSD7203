{
 "cells": [
  {
   "cell_type": "markdown",
   "metadata": {},
   "source": [
    "# Proyecto MDS7203\n",
    "\n",
    "**Benjamín Farías**\n",
    "\n",
    "**Sebastián Sanhueza**"
   ]
  },
  {
   "cell_type": "code",
   "execution_count": null,
   "metadata": {},
   "outputs": [],
   "source": [
    "import numpy as np\n",
    "import matplotlib.pyplot as plt\n",
    "import torch.nn as nn\n",
    "import torch.nn.functional as F\n",
    "import torch\n",
    "import os\n",
    "import gdown\n",
    "\n",
    "from torchvision import transforms as T\n",
    "from torchvision.ops import Permute\n",
    "from torch.nn.utils import spectral_norm\n",
    "from torch.utils.data import Dataset, DataLoader\n",
    "from PIL import Image\n",
    "from tqdm.notebook import tqdm\n",
    "from matplotlib import gridspec\n",
    "\n",
    "from .dataset import CaptchaDataset\n",
    "from .model import HVAE\n",
    "from .trainer import train_hvae, label_one_hot, plot_loss\n",
    "from .generate import plot_samples, plot_samples_by_normal, plot_cond_samples"
   ]
  },
  {
   "cell_type": "markdown",
   "metadata": {},
   "source": [
    "## Cargar Dataset"
   ]
  },
  {
   "cell_type": "code",
   "execution_count": null,
   "metadata": {},
   "outputs": [],
   "source": [
    "# Descarga del dataset\n",
    "gdown.download(id='1ANp5zuxm0UcWPf3ufKvebQIr22OaKX7x', output='captcha.zip', quiet=False)"
   ]
  },
  {
   "cell_type": "code",
   "execution_count": null,
   "metadata": {},
   "outputs": [],
   "source": [
    "%%capture\n",
    "!unzip captcha.zip"
   ]
  },
  {
   "cell_type": "code",
   "execution_count": null,
   "metadata": {},
   "outputs": [],
   "source": [
    "# directorio donde se descargó el dataset\n",
    "WORKDIR = '/content/'\n",
    "\n",
    "# Carga del dataset utilizado\n",
    "data = CaptchaDataset(WORKDIR + 'captchas/train', T.Compose([T.ToTensor()]))\n",
    "\n",
    "loader = DataLoader(data, batch_size=64, shuffle=True)"
   ]
  },
  {
   "cell_type": "code",
   "execution_count": null,
   "metadata": {},
   "outputs": [],
   "source": [
    "# Extracción de todas las etiquetas en la data de entrenamiento\n",
    "train_labels = [element[1] for element in data]\n",
    "\n",
    "# Identificación de caracteres únicos\n",
    "labels_string = \"\".join(train_labels)\n",
    "chars = sorted(list(set(labels_string)))\n",
    "\n",
    "vocab_size = len(chars)\n",
    "\n",
    "# Diccionario tipo caracter:índice\n",
    "stoi = {char:index for index, char in enumerate(chars)}"
   ]
  },
  {
   "cell_type": "code",
   "execution_count": null,
   "metadata": {},
   "outputs": [],
   "source": [
    "from torch import cuda\n",
    "device = 'cuda' if cuda.is_available() else 'cpu'"
   ]
  },
  {
   "cell_type": "markdown",
   "metadata": {},
   "source": [
    "## Sampleo"
   ]
  },
  {
   "cell_type": "code",
   "execution_count": null,
   "metadata": {},
   "outputs": [],
   "source": [
    "# Descarga del modelo pre-entrenado\n",
    "gdown.download(id='1wXnksXWeDPaBYq1pbJQMb-sqbWjIukWr', output='HVAE.pt', quiet=False)"
   ]
  },
  {
   "cell_type": "code",
   "execution_count": null,
   "metadata": {},
   "outputs": [],
   "source": [
    "# Carga los parámetros entrenados del modelo\n",
    "model = HVAE().to(device)\n",
    "model.load('HVAE.pt')"
   ]
  },
  {
   "cell_type": "code",
   "execution_count": null,
   "metadata": {},
   "outputs": [],
   "source": [
    "# Generar muestras de la distribución de z_T|x\n",
    "plot_samples(32, model, loader, device=device)"
   ]
  },
  {
   "cell_type": "code",
   "execution_count": null,
   "metadata": {},
   "outputs": [],
   "source": [
    "# Generar muestras de N(0, I) \n",
    "plot_samples_by_normal(32, model, device=device)"
   ]
  },
  {
   "cell_type": "markdown",
   "metadata": {},
   "source": [
    "## Sampleo Condicional"
   ]
  },
  {
   "cell_type": "markdown",
   "metadata": {},
   "source": [
    "### Entrenar modelo condicional"
   ]
  },
  {
   "cell_type": "code",
   "execution_count": null,
   "metadata": {},
   "outputs": [],
   "source": [
    "model_cond = HVAE(inner_config=[], conditioned=True)\n",
    "\n",
    "train_hvae(model_cond, loader, device=device, conditioned=True)"
   ]
  },
  {
   "cell_type": "markdown",
   "metadata": {},
   "source": [
    "### Generar muestras"
   ]
  },
  {
   "cell_type": "code",
   "execution_count": null,
   "metadata": {},
   "outputs": [],
   "source": [
    "n_samples = 5\n",
    "label = ['26pzgu']\n",
    "plot_cond_samples(n_samples, model_cond, loader, label, device=device)"
   ]
  }
 ],
 "metadata": {
  "language_info": {
   "name": "python"
  }
 },
 "nbformat": 4,
 "nbformat_minor": 2
}
